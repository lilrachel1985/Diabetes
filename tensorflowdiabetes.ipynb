{
  "nbformat": 4,
  "nbformat_minor": 0,
  "metadata": {
    "colab": {
      "provenance": [],
      "mount_file_id": "1O85hqDVYSIw31v4c5Pv4mt7Rie9dcEDk",
      "authorship_tag": "ABX9TyO5sV/DJg278wh7nm3kWfEl",
      "include_colab_link": true
    },
    "kernelspec": {
      "name": "python3",
      "display_name": "Python 3"
    },
    "language_info": {
      "name": "python"
    }
  },
  "cells": [
    {
      "cell_type": "markdown",
      "metadata": {
        "id": "view-in-github",
        "colab_type": "text"
      },
      "source": [
        "<a href=\"https://colab.research.google.com/github/lilrachel1985/Diabetes/blob/main/tensorflowdiabetes.ipynb\" target=\"_parent\"><img src=\"https://colab.research.google.com/assets/colab-badge.svg\" alt=\"Open In Colab\"/></a>"
      ]
    },
    {
      "cell_type": "code",
      "execution_count": null,
      "metadata": {
        "id": "K1TEPISi_yav"
      },
      "outputs": [],
      "source": [
        "import pandas as pd\n",
        "import numpy as np\n",
        "\n",
        "# Make numpy values easier to read.\n",
        "np.set_printoptions(precision=3, suppress=True)\n",
        "\n",
        "import tensorflow as tf\n",
        "from tensorflow.keras import layers"
      ]
    },
    {
      "cell_type": "code",
      "source": [
        "import tensorflow as tf\n",
        "from tensorflow.keras import layers\n",
        "import pandas as pd\n",
        "\n",
        "train_data_dir = ('https://drive.google.com/file/d/1S1u27Zy7r5rK68Bmf-7W-5GLRw4z5eHq/view?usp=drive_link')\n",
        "print(train_data_dir)\n"
      ],
      "metadata": {
        "colab": {
          "base_uri": "https://localhost:8080/"
        },
        "id": "3cwUAigGACXs",
        "outputId": "286c99b5-e75c-4be5-f014-3b2c1d4d8d3a"
      },
      "execution_count": null,
      "outputs": [
        {
          "output_type": "stream",
          "name": "stdout",
          "text": [
            "https://drive.google.com/file/d/1S1u27Zy7r5rK68Bmf-7W-5GLRw4z5eHq/view?usp=drive_link\n"
          ]
        }
      ]
    },
    {
      "cell_type": "code",
      "source": [
        "my_file = tf.keras.utils.get_file(\"diabetes.csv\", 'https://drive.google.com/file/d/1S1u27Zy7r5rK68Bmf-7W-5GLRw4z5eHq/view?usp=drive_link')"
      ],
      "metadata": {
        "id": "mDBWgVm-AYpW",
        "colab": {
          "base_uri": "https://localhost:8080/"
        },
        "outputId": "84b22013-7fe4-4610-9dac-d1aa40f6fd20"
      },
      "execution_count": null,
      "outputs": [
        {
          "output_type": "stream",
          "name": "stdout",
          "text": [
            "Downloading data from https://drive.google.com/file/d/1S1u27Zy7r5rK68Bmf-7W-5GLRw4z5eHq/view?usp=drive_link\n",
            "   8192/Unknown - 0s 0us/step"
          ]
        }
      ]
    },
    {
      "cell_type": "markdown",
      "source": [
        "1. Simple Batching"
      ],
      "metadata": {
        "id": "wM33eAuPCQqI"
      }
    },
    {
      "cell_type": "code",
      "source": [
        "dataset_diab1 = tf.data.Dataset.range(100)\n",
        "dataset_diab2 = tf.data.Dataset.range(0, -100, -1)\n",
        "dataset = tf.data.Dataset.zip((dataset_diab1, dataset_diab2))\n"
      ],
      "metadata": {
        "id": "nJ53Nn-lV7dG"
      },
      "execution_count": 14,
      "outputs": []
    },
    {
      "cell_type": "code",
      "source": [
        "\n",
        "\n",
        "dataset = tf.data.Dataset.zip((dataset_diab1, dataset_diab2))"
      ],
      "metadata": {
        "id": "hsgr5IRdAwes"
      },
      "execution_count": 15,
      "outputs": []
    },
    {
      "cell_type": "code",
      "source": [
        "\n",
        "batched_dataset = dataset.batch(4)\n",
        "\n",
        "for batch in batched_dataset.take(4):\n",
        "  print([arr.numpy() for arr in batch])"
      ],
      "metadata": {
        "colab": {
          "base_uri": "https://localhost:8080/"
        },
        "outputId": "b8e29fd6-e028-4e29-a535-7966f5bf47e0",
        "id": "UrDm-VQwAzMe"
      },
      "execution_count": 16,
      "outputs": [
        {
          "output_type": "stream",
          "name": "stdout",
          "text": [
            "[array([0, 1, 2, 3]), array([ 0, -1, -2, -3])]\n",
            "[array([4, 5, 6, 7]), array([-4, -5, -6, -7])]\n",
            "[array([ 8,  9, 10, 11]), array([ -8,  -9, -10, -11])]\n",
            "[array([12, 13, 14, 15]), array([-12, -13, -14, -15])]\n"
          ]
        }
      ]
    },
    {
      "cell_type": "code",
      "source": [
        "batched_dataset"
      ],
      "metadata": {
        "colab": {
          "base_uri": "https://localhost:8080/"
        },
        "id": "OixJSksWWkNW",
        "outputId": "0deaaba5-ed08-453a-90e7-e433bbefa2c1"
      },
      "execution_count": 17,
      "outputs": [
        {
          "output_type": "execute_result",
          "data": {
            "text/plain": [
              "<_BatchDataset element_spec=(TensorSpec(shape=(None,), dtype=tf.int64, name=None), TensorSpec(shape=(None,), dtype=tf.int64, name=None))>"
            ]
          },
          "metadata": {},
          "execution_count": 17
        }
      ]
    },
    {
      "cell_type": "code",
      "source": [
        "\n",
        "print(\"dataset after applying batch method\")\n",
        "for batch in batched_dataset:\n",
        "    print(batch)"
      ],
      "metadata": {
        "id": "yfeCWEQD4OeT",
        "colab": {
          "base_uri": "https://localhost:8080/"
        },
        "outputId": "ce866044-1eeb-4301-c2e2-12cf432f84a3"
      },
      "execution_count": 18,
      "outputs": [
        {
          "output_type": "stream",
          "name": "stdout",
          "text": [
            "dataset after applying batch method\n",
            "(<tf.Tensor: shape=(4,), dtype=int64, numpy=array([0, 1, 2, 3])>, <tf.Tensor: shape=(4,), dtype=int64, numpy=array([ 0, -1, -2, -3])>)\n",
            "(<tf.Tensor: shape=(4,), dtype=int64, numpy=array([4, 5, 6, 7])>, <tf.Tensor: shape=(4,), dtype=int64, numpy=array([-4, -5, -6, -7])>)\n",
            "(<tf.Tensor: shape=(4,), dtype=int64, numpy=array([ 8,  9, 10, 11])>, <tf.Tensor: shape=(4,), dtype=int64, numpy=array([ -8,  -9, -10, -11])>)\n",
            "(<tf.Tensor: shape=(4,), dtype=int64, numpy=array([12, 13, 14, 15])>, <tf.Tensor: shape=(4,), dtype=int64, numpy=array([-12, -13, -14, -15])>)\n",
            "(<tf.Tensor: shape=(4,), dtype=int64, numpy=array([16, 17, 18, 19])>, <tf.Tensor: shape=(4,), dtype=int64, numpy=array([-16, -17, -18, -19])>)\n",
            "(<tf.Tensor: shape=(4,), dtype=int64, numpy=array([20, 21, 22, 23])>, <tf.Tensor: shape=(4,), dtype=int64, numpy=array([-20, -21, -22, -23])>)\n",
            "(<tf.Tensor: shape=(4,), dtype=int64, numpy=array([24, 25, 26, 27])>, <tf.Tensor: shape=(4,), dtype=int64, numpy=array([-24, -25, -26, -27])>)\n",
            "(<tf.Tensor: shape=(4,), dtype=int64, numpy=array([28, 29, 30, 31])>, <tf.Tensor: shape=(4,), dtype=int64, numpy=array([-28, -29, -30, -31])>)\n",
            "(<tf.Tensor: shape=(4,), dtype=int64, numpy=array([32, 33, 34, 35])>, <tf.Tensor: shape=(4,), dtype=int64, numpy=array([-32, -33, -34, -35])>)\n",
            "(<tf.Tensor: shape=(4,), dtype=int64, numpy=array([36, 37, 38, 39])>, <tf.Tensor: shape=(4,), dtype=int64, numpy=array([-36, -37, -38, -39])>)\n",
            "(<tf.Tensor: shape=(4,), dtype=int64, numpy=array([40, 41, 42, 43])>, <tf.Tensor: shape=(4,), dtype=int64, numpy=array([-40, -41, -42, -43])>)\n",
            "(<tf.Tensor: shape=(4,), dtype=int64, numpy=array([44, 45, 46, 47])>, <tf.Tensor: shape=(4,), dtype=int64, numpy=array([-44, -45, -46, -47])>)\n",
            "(<tf.Tensor: shape=(4,), dtype=int64, numpy=array([48, 49, 50, 51])>, <tf.Tensor: shape=(4,), dtype=int64, numpy=array([-48, -49, -50, -51])>)\n",
            "(<tf.Tensor: shape=(4,), dtype=int64, numpy=array([52, 53, 54, 55])>, <tf.Tensor: shape=(4,), dtype=int64, numpy=array([-52, -53, -54, -55])>)\n",
            "(<tf.Tensor: shape=(4,), dtype=int64, numpy=array([56, 57, 58, 59])>, <tf.Tensor: shape=(4,), dtype=int64, numpy=array([-56, -57, -58, -59])>)\n",
            "(<tf.Tensor: shape=(4,), dtype=int64, numpy=array([60, 61, 62, 63])>, <tf.Tensor: shape=(4,), dtype=int64, numpy=array([-60, -61, -62, -63])>)\n",
            "(<tf.Tensor: shape=(4,), dtype=int64, numpy=array([64, 65, 66, 67])>, <tf.Tensor: shape=(4,), dtype=int64, numpy=array([-64, -65, -66, -67])>)\n",
            "(<tf.Tensor: shape=(4,), dtype=int64, numpy=array([68, 69, 70, 71])>, <tf.Tensor: shape=(4,), dtype=int64, numpy=array([-68, -69, -70, -71])>)\n",
            "(<tf.Tensor: shape=(4,), dtype=int64, numpy=array([72, 73, 74, 75])>, <tf.Tensor: shape=(4,), dtype=int64, numpy=array([-72, -73, -74, -75])>)\n",
            "(<tf.Tensor: shape=(4,), dtype=int64, numpy=array([76, 77, 78, 79])>, <tf.Tensor: shape=(4,), dtype=int64, numpy=array([-76, -77, -78, -79])>)\n",
            "(<tf.Tensor: shape=(4,), dtype=int64, numpy=array([80, 81, 82, 83])>, <tf.Tensor: shape=(4,), dtype=int64, numpy=array([-80, -81, -82, -83])>)\n",
            "(<tf.Tensor: shape=(4,), dtype=int64, numpy=array([84, 85, 86, 87])>, <tf.Tensor: shape=(4,), dtype=int64, numpy=array([-84, -85, -86, -87])>)\n",
            "(<tf.Tensor: shape=(4,), dtype=int64, numpy=array([88, 89, 90, 91])>, <tf.Tensor: shape=(4,), dtype=int64, numpy=array([-88, -89, -90, -91])>)\n",
            "(<tf.Tensor: shape=(4,), dtype=int64, numpy=array([92, 93, 94, 95])>, <tf.Tensor: shape=(4,), dtype=int64, numpy=array([-92, -93, -94, -95])>)\n",
            "(<tf.Tensor: shape=(4,), dtype=int64, numpy=array([96, 97, 98, 99])>, <tf.Tensor: shape=(4,), dtype=int64, numpy=array([-96, -97, -98, -99])>)\n"
          ]
        }
      ]
    },
    {
      "cell_type": "markdown",
      "source": [
        "2. Batching tensors with padding"
      ],
      "metadata": {
        "id": "MZ5P_PPuCXuY"
      }
    },
    {
      "cell_type": "code",
      "source": [
        "record_defaults = [999, 999] # Only provide defaults for the selected columns\n",
        "dataset = tf.data.experimental.CsvDataset(\"diabetes.csv\", record_defaults, select_cols=[1, 3])\n",
        "dataset = dataset.map(lambda *items: tf.stack(items))\n",
        "dataset"
      ],
      "metadata": {
        "id": "oN0Z0906Cg_B"
      },
      "execution_count": null,
      "outputs": []
    },
    {
      "cell_type": "code",
      "source": [
        "record_defaults = [999,999,999,999]\n",
        "dataset = tf.data.experimental.CsvDataset(\"missing.csv\", record_defaults)\n",
        "dataset = dataset.map(lambda *items: tf.stack(items))\n",
        "dataset"
      ],
      "metadata": {
        "colab": {
          "base_uri": "https://localhost:8080/"
        },
        "id": "YQDHesxTXF21",
        "outputId": "0d393a7f-a4ab-4fd6-a073-46a1045e7abc"
      },
      "execution_count": 20,
      "outputs": [
        {
          "output_type": "execute_result",
          "data": {
            "text/plain": [
              "<_MapDataset element_spec=TensorSpec(shape=(4,), dtype=tf.int32, name=None)>"
            ]
          },
          "metadata": {},
          "execution_count": 20
        }
      ]
    },
    {
      "cell_type": "code",
      "source": [
        "def get_dataset_partitions_tf(dataset, dataset_size, train_split=0.8, val_split=0.1, test_split=0.1, shuffle=True, shuffle_size=10000):\n",
        "    assert (train_split + test_split + val_split) == 1\n",
        "\n",
        "    if shuffle:\n",
        "        # Specify seed to always have the same split distribution between runs\n",
        "        dataset = dataset.shuffle(shuffle_size, seed=12)\n",
        "\n",
        "    train_size = int(train_split * ds_size)\n",
        "    val_size = int(val_split * ds_size)\n",
        "\n",
        "    train_ds = dataset.take(train_size)\n",
        "    val_ds = dataset.skip(train_size).take(val_size)\n",
        "    test_ds = dataset.skip(train_size).skip(val_size)\n",
        "\n",
        "    return train_ds, val_ds, test_ds"
      ],
      "metadata": {
        "id": "zm5kNtm8FuK6"
      },
      "execution_count": 22,
      "outputs": []
    },
    {
      "cell_type": "code",
      "source": [
        "!pip install scikit-plot"
      ],
      "metadata": {
        "colab": {
          "base_uri": "https://localhost:8080/"
        },
        "id": "tOYbbXEFYkeZ",
        "outputId": "0749237e-9e5f-43bc-bb60-7174b81ec5a5"
      },
      "execution_count": null,
      "outputs": [
        {
          "output_type": "stream",
          "name": "stdout",
          "text": [
            "Collecting scikit-plot\n",
            "  Downloading scikit_plot-0.3.7-py3-none-any.whl (33 kB)\n",
            "Requirement already satisfied: matplotlib>=1.4.0 in /usr/local/lib/python3.10/dist-packages (from scikit-plot) (3.7.1)\n",
            "Requirement already satisfied: scikit-learn>=0.18 in /usr/local/lib/python3.10/dist-packages (from scikit-plot) (1.2.2)\n",
            "Requirement already satisfied: scipy>=0.9 in /usr/local/lib/python3.10/dist-packages (from scikit-plot) (1.10.1)\n",
            "Requirement already satisfied: joblib>=0.10 in /usr/local/lib/python3.10/dist-packages (from scikit-plot) (1.2.0)\n",
            "Requirement already satisfied: contourpy>=1.0.1 in /usr/local/lib/python3.10/dist-packages (from matplotlib>=1.4.0->scikit-plot) (1.1.0)\n",
            "Requirement already satisfied: cycler>=0.10 in /usr/local/lib/python3.10/dist-packages (from matplotlib>=1.4.0->scikit-plot) (0.11.0)\n",
            "Requirement already satisfied: fonttools>=4.22.0 in /usr/local/lib/python3.10/dist-packages (from matplotlib>=1.4.0->scikit-plot) (4.40.0)\n",
            "Requirement already satisfied: kiwisolver>=1.0.1 in /usr/local/lib/python3.10/dist-packages (from matplotlib>=1.4.0->scikit-plot) (1.4.4)\n",
            "Requirement already satisfied: numpy>=1.20 in /usr/local/lib/python3.10/dist-packages (from matplotlib>=1.4.0->scikit-plot) (1.22.4)\n",
            "Requirement already satisfied: packaging>=20.0 in /usr/local/lib/python3.10/dist-packages (from matplotlib>=1.4.0->scikit-plot) (23.1)\n",
            "Requirement already satisfied: pillow>=6.2.0 in /usr/local/lib/python3.10/dist-packages (from matplotlib>=1.4.0->scikit-plot) (8.4.0)\n",
            "Requirement already satisfied: pyparsing>=2.3.1 in /usr/local/lib/python3.10/dist-packages (from matplotlib>=1.4.0->scikit-plot) (3.1.0)\n",
            "Requirement already satisfied: python-dateutil>=2.7 in /usr/local/lib/python3.10/dist-packages (from matplotlib>=1.4.0->scikit-plot) (2.8.2)\n",
            "Requirement already satisfied: threadpoolctl>=2.0.0 in /usr/local/lib/python3.10/dist-packages (from scikit-learn>=0.18->scikit-plot) (3.1.0)\n",
            "Requirement already satisfied: six>=1.5 in /usr/local/lib/python3.10/dist-packages (from python-dateutil>=2.7->matplotlib>=1.4.0->scikit-plot) (1.16.0)\n",
            "Installing collected packages: scikit-plot\n",
            "Successfully installed scikit-plot-0.3.7\n"
          ]
        }
      ]
    },
    {
      "cell_type": "code",
      "source": [],
      "metadata": {
        "id": "HjkByLWwXqs3"
      },
      "execution_count": null,
      "outputs": []
    }
  ]
}