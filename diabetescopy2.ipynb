{
  "nbformat": 4,
  "nbformat_minor": 0,
  "metadata": {
    "colab": {
      "provenance": [],
      "mount_file_id": "1O85hqDVYSIw31v4c5Pv4mt7Rie9dcEDk",
      "authorship_tag": "ABX9TyP5Yt3T17U2rg7PlkNlQ1UU",
      "include_colab_link": true
    },
    "kernelspec": {
      "name": "python3",
      "display_name": "Python 3"
    },
    "language_info": {
      "name": "python"
    }
  },
  "cells": [
    {
      "cell_type": "markdown",
      "metadata": {
        "id": "view-in-github",
        "colab_type": "text"
      },
      "source": [
        "<a href=\"https://colab.research.google.com/github/lilrachel1985/Diabetes/blob/main/diabetescopy2.ipynb\" target=\"_parent\"><img src=\"https://colab.research.google.com/assets/colab-badge.svg\" alt=\"Open In Colab\"/></a>"
      ]
    },
    {
      "cell_type": "code",
      "execution_count": 1,
      "metadata": {
        "id": "K1TEPISi_yav"
      },
      "outputs": [],
      "source": [
        "import pandas as pd\n",
        "import numpy as np\n",
        "\n",
        "# Make numpy values easier to read.\n",
        "np.set_printoptions(precision=3, suppress=True)\n",
        "\n",
        "import tensorflow as tf\n",
        "from tensorflow.keras import layers"
      ]
    },
    {
      "cell_type": "code",
      "source": [
        "import tensorflow as tf\n",
        "from tensorflow.keras import layers\n",
        "import pandas as pd\n",
        "\n",
        "train_data_dir = ('https://drive.google.com/file/d/1S1u27Zy7r5rK68Bmf-7W-5GLRw4z5eHq/view?usp=drive_link')\n",
        "print(train_data_dir)\n"
      ],
      "metadata": {
        "colab": {
          "base_uri": "https://localhost:8080/"
        },
        "id": "3cwUAigGACXs",
        "outputId": "f8490edf-bed5-4ad3-986d-c7571c0e5c7f"
      },
      "execution_count": 2,
      "outputs": [
        {
          "output_type": "stream",
          "name": "stdout",
          "text": [
            "https://drive.google.com/file/d/1S1u27Zy7r5rK68Bmf-7W-5GLRw4z5eHq/view?usp=drive_link\n"
          ]
        }
      ]
    },
    {
      "cell_type": "code",
      "source": [
        "my_file = tf.keras.utils.get_file(\"diabetes.csv\", 'https://drive.google.com/file/d/1S1u27Zy7r5rK68Bmf-7W-5GLRw4z5eHq/view?usp=drive_link')"
      ],
      "metadata": {
        "id": "mDBWgVm-AYpW",
        "colab": {
          "base_uri": "https://localhost:8080/"
        },
        "outputId": "b32f8025-5b8d-4350-c664-93dd045279e3"
      },
      "execution_count": 3,
      "outputs": [
        {
          "output_type": "stream",
          "name": "stdout",
          "text": [
            "Downloading data from https://drive.google.com/file/d/1S1u27Zy7r5rK68Bmf-7W-5GLRw4z5eHq/view?usp=drive_link\n",
            "   8192/Unknown - 0s 0us/step"
          ]
        }
      ]
    },
    {
      "cell_type": "markdown",
      "source": [
        "1. Simple Batching"
      ],
      "metadata": {
        "id": "wM33eAuPCQqI"
      }
    },
    {
      "cell_type": "code",
      "source": [
        "dataset_diab1 = tf.data.Dataset.range(100)\n",
        "dataset_diab2 = tf.data.Dataset.range(0, -100, -1)\n",
        "dataset = tf.data.Dataset.zip((dataset_diab1, dataset_diab2))\n"
      ],
      "metadata": {
        "id": "nJ53Nn-lV7dG"
      },
      "execution_count": 4,
      "outputs": []
    },
    {
      "cell_type": "code",
      "source": [
        "\n",
        "\n",
        "dataset = tf.data.Dataset.zip((dataset_diab1, dataset_diab2))"
      ],
      "metadata": {
        "id": "hsgr5IRdAwes"
      },
      "execution_count": 5,
      "outputs": []
    },
    {
      "cell_type": "code",
      "source": [
        "\n",
        "batched_dataset = dataset.batch(4)\n",
        "\n",
        "for batch in batched_dataset.take(4):\n",
        "  print([arr.numpy() for arr in batch])"
      ],
      "metadata": {
        "colab": {
          "base_uri": "https://localhost:8080/"
        },
        "outputId": "8f723b99-f978-4248-c8ed-075ec313b0c7",
        "id": "UrDm-VQwAzMe"
      },
      "execution_count": 6,
      "outputs": [
        {
          "output_type": "stream",
          "name": "stdout",
          "text": [
            "[array([0, 1, 2, 3]), array([ 0, -1, -2, -3])]\n",
            "[array([4, 5, 6, 7]), array([-4, -5, -6, -7])]\n",
            "[array([ 8,  9, 10, 11]), array([ -8,  -9, -10, -11])]\n",
            "[array([12, 13, 14, 15]), array([-12, -13, -14, -15])]\n"
          ]
        }
      ]
    },
    {
      "cell_type": "code",
      "source": [
        "batched_dataset"
      ],
      "metadata": {
        "colab": {
          "base_uri": "https://localhost:8080/"
        },
        "id": "OixJSksWWkNW",
        "outputId": "e85c9230-5635-4ee5-9750-e324714c6f9f"
      },
      "execution_count": 7,
      "outputs": [
        {
          "output_type": "execute_result",
          "data": {
            "text/plain": [
              "<_BatchDataset element_spec=(TensorSpec(shape=(None,), dtype=tf.int64, name=None), TensorSpec(shape=(None,), dtype=tf.int64, name=None))>"
            ]
          },
          "metadata": {},
          "execution_count": 7
        }
      ]
    },
    {
      "cell_type": "code",
      "source": [
        "\n",
        "print(\"dataset after applying batch method\")\n",
        "for batch in batched_dataset:\n",
        "    print(batch)"
      ],
      "metadata": {
        "id": "yfeCWEQD4OeT",
        "colab": {
          "base_uri": "https://localhost:8080/"
        },
        "outputId": "8081228a-1da9-4d10-a1b0-f55a0d17b627"
      },
      "execution_count": 8,
      "outputs": [
        {
          "output_type": "stream",
          "name": "stdout",
          "text": [
            "dataset after applying batch method\n",
            "(<tf.Tensor: shape=(4,), dtype=int64, numpy=array([0, 1, 2, 3])>, <tf.Tensor: shape=(4,), dtype=int64, numpy=array([ 0, -1, -2, -3])>)\n",
            "(<tf.Tensor: shape=(4,), dtype=int64, numpy=array([4, 5, 6, 7])>, <tf.Tensor: shape=(4,), dtype=int64, numpy=array([-4, -5, -6, -7])>)\n",
            "(<tf.Tensor: shape=(4,), dtype=int64, numpy=array([ 8,  9, 10, 11])>, <tf.Tensor: shape=(4,), dtype=int64, numpy=array([ -8,  -9, -10, -11])>)\n",
            "(<tf.Tensor: shape=(4,), dtype=int64, numpy=array([12, 13, 14, 15])>, <tf.Tensor: shape=(4,), dtype=int64, numpy=array([-12, -13, -14, -15])>)\n",
            "(<tf.Tensor: shape=(4,), dtype=int64, numpy=array([16, 17, 18, 19])>, <tf.Tensor: shape=(4,), dtype=int64, numpy=array([-16, -17, -18, -19])>)\n",
            "(<tf.Tensor: shape=(4,), dtype=int64, numpy=array([20, 21, 22, 23])>, <tf.Tensor: shape=(4,), dtype=int64, numpy=array([-20, -21, -22, -23])>)\n",
            "(<tf.Tensor: shape=(4,), dtype=int64, numpy=array([24, 25, 26, 27])>, <tf.Tensor: shape=(4,), dtype=int64, numpy=array([-24, -25, -26, -27])>)\n",
            "(<tf.Tensor: shape=(4,), dtype=int64, numpy=array([28, 29, 30, 31])>, <tf.Tensor: shape=(4,), dtype=int64, numpy=array([-28, -29, -30, -31])>)\n",
            "(<tf.Tensor: shape=(4,), dtype=int64, numpy=array([32, 33, 34, 35])>, <tf.Tensor: shape=(4,), dtype=int64, numpy=array([-32, -33, -34, -35])>)\n",
            "(<tf.Tensor: shape=(4,), dtype=int64, numpy=array([36, 37, 38, 39])>, <tf.Tensor: shape=(4,), dtype=int64, numpy=array([-36, -37, -38, -39])>)\n",
            "(<tf.Tensor: shape=(4,), dtype=int64, numpy=array([40, 41, 42, 43])>, <tf.Tensor: shape=(4,), dtype=int64, numpy=array([-40, -41, -42, -43])>)\n",
            "(<tf.Tensor: shape=(4,), dtype=int64, numpy=array([44, 45, 46, 47])>, <tf.Tensor: shape=(4,), dtype=int64, numpy=array([-44, -45, -46, -47])>)\n",
            "(<tf.Tensor: shape=(4,), dtype=int64, numpy=array([48, 49, 50, 51])>, <tf.Tensor: shape=(4,), dtype=int64, numpy=array([-48, -49, -50, -51])>)\n",
            "(<tf.Tensor: shape=(4,), dtype=int64, numpy=array([52, 53, 54, 55])>, <tf.Tensor: shape=(4,), dtype=int64, numpy=array([-52, -53, -54, -55])>)\n",
            "(<tf.Tensor: shape=(4,), dtype=int64, numpy=array([56, 57, 58, 59])>, <tf.Tensor: shape=(4,), dtype=int64, numpy=array([-56, -57, -58, -59])>)\n",
            "(<tf.Tensor: shape=(4,), dtype=int64, numpy=array([60, 61, 62, 63])>, <tf.Tensor: shape=(4,), dtype=int64, numpy=array([-60, -61, -62, -63])>)\n",
            "(<tf.Tensor: shape=(4,), dtype=int64, numpy=array([64, 65, 66, 67])>, <tf.Tensor: shape=(4,), dtype=int64, numpy=array([-64, -65, -66, -67])>)\n",
            "(<tf.Tensor: shape=(4,), dtype=int64, numpy=array([68, 69, 70, 71])>, <tf.Tensor: shape=(4,), dtype=int64, numpy=array([-68, -69, -70, -71])>)\n",
            "(<tf.Tensor: shape=(4,), dtype=int64, numpy=array([72, 73, 74, 75])>, <tf.Tensor: shape=(4,), dtype=int64, numpy=array([-72, -73, -74, -75])>)\n",
            "(<tf.Tensor: shape=(4,), dtype=int64, numpy=array([76, 77, 78, 79])>, <tf.Tensor: shape=(4,), dtype=int64, numpy=array([-76, -77, -78, -79])>)\n",
            "(<tf.Tensor: shape=(4,), dtype=int64, numpy=array([80, 81, 82, 83])>, <tf.Tensor: shape=(4,), dtype=int64, numpy=array([-80, -81, -82, -83])>)\n",
            "(<tf.Tensor: shape=(4,), dtype=int64, numpy=array([84, 85, 86, 87])>, <tf.Tensor: shape=(4,), dtype=int64, numpy=array([-84, -85, -86, -87])>)\n",
            "(<tf.Tensor: shape=(4,), dtype=int64, numpy=array([88, 89, 90, 91])>, <tf.Tensor: shape=(4,), dtype=int64, numpy=array([-88, -89, -90, -91])>)\n",
            "(<tf.Tensor: shape=(4,), dtype=int64, numpy=array([92, 93, 94, 95])>, <tf.Tensor: shape=(4,), dtype=int64, numpy=array([-92, -93, -94, -95])>)\n",
            "(<tf.Tensor: shape=(4,), dtype=int64, numpy=array([96, 97, 98, 99])>, <tf.Tensor: shape=(4,), dtype=int64, numpy=array([-96, -97, -98, -99])>)\n"
          ]
        }
      ]
    },
    {
      "cell_type": "markdown",
      "source": [
        "2. Batching tensors with padding"
      ],
      "metadata": {
        "id": "MZ5P_PPuCXuY"
      }
    },
    {
      "cell_type": "code",
      "source": [
        "record_defaults = [999, 999] # Only provide defaults for the selected columns\n",
        "dataset = tf.data.experimental.CsvDataset(\"diabetes.csv\", record_defaults, select_cols=[1, 3])\n",
        "dataset = dataset.map(lambda *items: tf.stack(items))\n",
        "dataset"
      ],
      "metadata": {
        "colab": {
          "base_uri": "https://localhost:8080/"
        },
        "id": "oN0Z0906Cg_B",
        "outputId": "ddc77046-0c1d-4f21-ed28-87b5a817b61d"
      },
      "execution_count": 9,
      "outputs": [
        {
          "output_type": "execute_result",
          "data": {
            "text/plain": [
              "<_MapDataset element_spec=TensorSpec(shape=(2,), dtype=tf.int32, name=None)>"
            ]
          },
          "metadata": {},
          "execution_count": 9
        }
      ]
    },
    {
      "cell_type": "code",
      "source": [
        "!pip install tensorflow_datasets"
      ],
      "metadata": {
        "colab": {
          "base_uri": "https://localhost:8080/"
        },
        "id": "VZ9uC6dK6m45",
        "outputId": "be577e24-879c-449d-96af-6cf35b1f0056"
      },
      "execution_count": 30,
      "outputs": [
        {
          "output_type": "stream",
          "name": "stdout",
          "text": [
            "Requirement already satisfied: tensorflow_datasets in /usr/local/lib/python3.10/dist-packages (4.9.2)\n",
            "Requirement already satisfied: absl-py in /usr/local/lib/python3.10/dist-packages (from tensorflow_datasets) (1.4.0)\n",
            "Requirement already satisfied: array-record in /usr/local/lib/python3.10/dist-packages (from tensorflow_datasets) (0.4.0)\n",
            "Requirement already satisfied: click in /usr/local/lib/python3.10/dist-packages (from tensorflow_datasets) (8.1.3)\n",
            "Requirement already satisfied: dm-tree in /usr/local/lib/python3.10/dist-packages (from tensorflow_datasets) (0.1.8)\n",
            "Requirement already satisfied: etils[enp,epath]>=0.9.0 in /usr/local/lib/python3.10/dist-packages (from tensorflow_datasets) (1.3.0)\n",
            "Requirement already satisfied: numpy in /usr/local/lib/python3.10/dist-packages (from tensorflow_datasets) (1.22.4)\n",
            "Requirement already satisfied: promise in /usr/local/lib/python3.10/dist-packages (from tensorflow_datasets) (2.3)\n",
            "Requirement already satisfied: protobuf>=3.20 in /usr/local/lib/python3.10/dist-packages (from tensorflow_datasets) (3.20.3)\n",
            "Requirement already satisfied: psutil in /usr/local/lib/python3.10/dist-packages (from tensorflow_datasets) (5.9.5)\n",
            "Requirement already satisfied: requests>=2.19.0 in /usr/local/lib/python3.10/dist-packages (from tensorflow_datasets) (2.27.1)\n",
            "Requirement already satisfied: tensorflow-metadata in /usr/local/lib/python3.10/dist-packages (from tensorflow_datasets) (1.13.1)\n",
            "Requirement already satisfied: termcolor in /usr/local/lib/python3.10/dist-packages (from tensorflow_datasets) (2.3.0)\n",
            "Requirement already satisfied: toml in /usr/local/lib/python3.10/dist-packages (from tensorflow_datasets) (0.10.2)\n",
            "Requirement already satisfied: tqdm in /usr/local/lib/python3.10/dist-packages (from tensorflow_datasets) (4.65.0)\n",
            "Requirement already satisfied: wrapt in /usr/local/lib/python3.10/dist-packages (from tensorflow_datasets) (1.14.1)\n",
            "Requirement already satisfied: importlib_resources in /usr/local/lib/python3.10/dist-packages (from etils[enp,epath]>=0.9.0->tensorflow_datasets) (5.12.0)\n",
            "Requirement already satisfied: typing_extensions in /usr/local/lib/python3.10/dist-packages (from etils[enp,epath]>=0.9.0->tensorflow_datasets) (4.6.3)\n",
            "Requirement already satisfied: zipp in /usr/local/lib/python3.10/dist-packages (from etils[enp,epath]>=0.9.0->tensorflow_datasets) (3.15.0)\n",
            "Requirement already satisfied: urllib3<1.27,>=1.21.1 in /usr/local/lib/python3.10/dist-packages (from requests>=2.19.0->tensorflow_datasets) (1.26.16)\n",
            "Requirement already satisfied: certifi>=2017.4.17 in /usr/local/lib/python3.10/dist-packages (from requests>=2.19.0->tensorflow_datasets) (2023.5.7)\n",
            "Requirement already satisfied: charset-normalizer~=2.0.0 in /usr/local/lib/python3.10/dist-packages (from requests>=2.19.0->tensorflow_datasets) (2.0.12)\n",
            "Requirement already satisfied: idna<4,>=2.5 in /usr/local/lib/python3.10/dist-packages (from requests>=2.19.0->tensorflow_datasets) (3.4)\n",
            "Requirement already satisfied: six in /usr/local/lib/python3.10/dist-packages (from promise->tensorflow_datasets) (1.16.0)\n",
            "Requirement already satisfied: googleapis-common-protos<2,>=1.52.0 in /usr/local/lib/python3.10/dist-packages (from tensorflow-metadata->tensorflow_datasets) (1.59.1)\n"
          ]
        }
      ]
    },
    {
      "cell_type": "code",
      "source": [
        "def get_dataset_partitions_tf(dataset, dataset_size, train_split=0.8, val_split=0.1, test_split=0.1, shuffle=True, shuffle_size=10000):\n",
        "    assert (train_split + test_split + val_split) == 1\n",
        "\n",
        "    if shuffle:\n",
        "        # Specify seed to always have the same split distribution between runs\n",
        "        dataset = dataset.shuffle(shuffle_size, seed=12)\n",
        "\n",
        "    train_size = int(train_split * ds_size)\n",
        "    val_size = int(val_split * ds_size)\n",
        "\n",
        "    train_ds = dataset.take(train_size)\n",
        "    val_ds = dataset.skip(train_size).take(val_size)\n",
        "    test_ds = dataset.skip(train_size).skip(val_size)\n",
        "\n",
        "    return train_ds, val_ds, test_ds"
      ],
      "metadata": {
        "id": "zm5kNtm8FuK6"
      },
      "execution_count": 27,
      "outputs": []
    },
    {
      "cell_type": "code",
      "source": [
        "!pip install scikit-plot"
      ],
      "metadata": {
        "colab": {
          "base_uri": "https://localhost:8080/"
        },
        "id": "tOYbbXEFYkeZ",
        "outputId": "f7d7dbc0-7c8b-4a0b-bab5-e60451277cec"
      },
      "execution_count": 10,
      "outputs": [
        {
          "output_type": "stream",
          "name": "stdout",
          "text": [
            "Collecting scikit-plot\n",
            "  Downloading scikit_plot-0.3.7-py3-none-any.whl (33 kB)\n",
            "Requirement already satisfied: matplotlib>=1.4.0 in /usr/local/lib/python3.10/dist-packages (from scikit-plot) (3.7.1)\n",
            "Requirement already satisfied: scikit-learn>=0.18 in /usr/local/lib/python3.10/dist-packages (from scikit-plot) (1.2.2)\n",
            "Requirement already satisfied: scipy>=0.9 in /usr/local/lib/python3.10/dist-packages (from scikit-plot) (1.10.1)\n",
            "Requirement already satisfied: joblib>=0.10 in /usr/local/lib/python3.10/dist-packages (from scikit-plot) (1.2.0)\n",
            "Requirement already satisfied: contourpy>=1.0.1 in /usr/local/lib/python3.10/dist-packages (from matplotlib>=1.4.0->scikit-plot) (1.1.0)\n",
            "Requirement already satisfied: cycler>=0.10 in /usr/local/lib/python3.10/dist-packages (from matplotlib>=1.4.0->scikit-plot) (0.11.0)\n",
            "Requirement already satisfied: fonttools>=4.22.0 in /usr/local/lib/python3.10/dist-packages (from matplotlib>=1.4.0->scikit-plot) (4.40.0)\n",
            "Requirement already satisfied: kiwisolver>=1.0.1 in /usr/local/lib/python3.10/dist-packages (from matplotlib>=1.4.0->scikit-plot) (1.4.4)\n",
            "Requirement already satisfied: numpy>=1.20 in /usr/local/lib/python3.10/dist-packages (from matplotlib>=1.4.0->scikit-plot) (1.22.4)\n",
            "Requirement already satisfied: packaging>=20.0 in /usr/local/lib/python3.10/dist-packages (from matplotlib>=1.4.0->scikit-plot) (23.1)\n",
            "Requirement already satisfied: pillow>=6.2.0 in /usr/local/lib/python3.10/dist-packages (from matplotlib>=1.4.0->scikit-plot) (8.4.0)\n",
            "Requirement already satisfied: pyparsing>=2.3.1 in /usr/local/lib/python3.10/dist-packages (from matplotlib>=1.4.0->scikit-plot) (3.1.0)\n",
            "Requirement already satisfied: python-dateutil>=2.7 in /usr/local/lib/python3.10/dist-packages (from matplotlib>=1.4.0->scikit-plot) (2.8.2)\n",
            "Requirement already satisfied: threadpoolctl>=2.0.0 in /usr/local/lib/python3.10/dist-packages (from scikit-learn>=0.18->scikit-plot) (3.1.0)\n",
            "Requirement already satisfied: six>=1.5 in /usr/local/lib/python3.10/dist-packages (from python-dateutil>=2.7->matplotlib>=1.4.0->scikit-plot) (1.16.0)\n",
            "Installing collected packages: scikit-plot\n",
            "Successfully installed scikit-plot-0.3.7\n"
          ]
        }
      ]
    },
    {
      "cell_type": "code",
      "source": [
        "# Read in the training and evaluation datasets\n",
        "from sklearn.model_selection import train_test_split\n",
        "df = pd.read_csv('/content/drive/MyDrive/Colab Notebooks/data/Diabetes.csv', skipinitialspace=True)\n",
        "\n",
        "# Split the dataset. Do not shuffle for this demo notebook.\n",
        "train_df, eval_df = train_test_split(df, test_size=0.2, shuffle=False)"
      ],
      "metadata": {
        "id": "tsMD_7pXzhez"
      },
      "execution_count": 13,
      "outputs": []
    },
    {
      "cell_type": "code",
      "source": [
        "# Make numpy values easier to read.\n",
        "np.set_printoptions(precision=3, suppress=True)"
      ],
      "metadata": {
        "id": "0Q36jlWF0e8v"
      },
      "execution_count": 14,
      "outputs": []
    },
    {
      "cell_type": "code",
      "source": [
        "DATASET_SIZE = tf.data.experimental.cardinality(dataset).numpy()\n",
        "# Define the size of the training set\n",
        "train_size = int(0.7 * DATASET_SIZE)\n",
        "# Define the size of the validation set\n",
        "val_size = int(0.15 * DATASET_SIZE)\n",
        "# Define the size of the testing set\n",
        "test_size = int(0.15 * DATASET_SIZE)\n",
        "\n",
        "# Split the dataset into training and testing sets\n",
        "# skip() that allows you to skip a certain number of elements in a dataset\n",
        "# take() that allows you to take a certain number of elements from a dataset\n",
        "train_dataset = dataset.take(train_size)\n",
        "test_dataset = dataset.skip(train_size)\n",
        "val_dataset = test_dataset.take(val_size)\n",
        "test_dataset = test_dataset.skip(val_size)"
      ],
      "metadata": {
        "id": "LQGonjRbNC6L"
      },
      "execution_count": 54,
      "outputs": []
    },
    {
      "cell_type": "code",
      "source": [
        "import matplotlib.pyplot as plt\n",
        "def plot_batch_sizes(ds):\n",
        "  batch_sizes = [batch.shape[0] for batch in ds]\n",
        "  plt.bar(range(len(batch_sizes)), batch_sizes)\n",
        "  plt.xlabel('Batch number')\n",
        "  plt.ylabel('Batch size')\n"
      ],
      "metadata": {
        "id": "BzkdFTFGPNh0"
      },
      "execution_count": 16,
      "outputs": []
    },
    {
      "cell_type": "code",
      "source": [
        "# define the keras model\n",
        "from keras import models\n",
        "from keras import layers\n",
        "from keras import regularizers\n",
        "from keras.models import Sequential\n",
        "from keras.layers import Dense,Dropout\n",
        "from keras.optimizers import Adam\n"
      ],
      "metadata": {
        "id": "InqYd1REQEkM"
      },
      "execution_count": 44,
      "outputs": []
    },
    {
      "cell_type": "code",
      "source": [
        "model = Sequential()\n",
        "model.add(Dense(8,input_dim = 8,activation = 'relu'))\n",
        "model.add(Dropout(0.1))\n",
        "model.add(Dense(4,input_dim = 8,activation = 'relu'))\n",
        "model.add(Dropout(0.1))\n",
        "model.add(Dense(1,activation = 'sigmoid'))\n",
        "\n",
        "adam = Adam(lr = 0.001)\n"
      ],
      "metadata": {
        "id": "rqv_w-hN9Ttx"
      },
      "execution_count": 46,
      "outputs": []
    },
    {
      "cell_type": "code",
      "source": [
        "model.compile(loss = 'binary_crossentropy',optimizer = adam,metrics = ['accuracy'])\n",
        " # fit the keras model on the dataset\n",
        "model.fit(train_dataset, epochs=150, batch_size=10)"
      ],
      "metadata": {
        "colab": {
          "base_uri": "https://localhost:8080/",
          "height": 744
        },
        "id": "43D1o9Xd-P5z",
        "outputId": "e7faec88-5037-4f76-c38c-b690303df1ae"
      },
      "execution_count": 50,
      "outputs": [
        {
          "output_type": "stream",
          "name": "stdout",
          "text": [
            "Epoch 1/150\n"
          ]
        },
        {
          "output_type": "error",
          "ename": "ValueError",
          "evalue": "ignored",
          "traceback": [
            "\u001b[0;31m---------------------------------------------------------------------------\u001b[0m",
            "\u001b[0;31mValueError\u001b[0m                                Traceback (most recent call last)",
            "\u001b[0;32m<ipython-input-50-852b25e6088e>\u001b[0m in \u001b[0;36m<cell line: 3>\u001b[0;34m()\u001b[0m\n\u001b[1;32m      1\u001b[0m \u001b[0mmodel\u001b[0m\u001b[0;34m.\u001b[0m\u001b[0mcompile\u001b[0m\u001b[0;34m(\u001b[0m\u001b[0mloss\u001b[0m \u001b[0;34m=\u001b[0m \u001b[0;34m'binary_crossentropy'\u001b[0m\u001b[0;34m,\u001b[0m\u001b[0moptimizer\u001b[0m \u001b[0;34m=\u001b[0m \u001b[0madam\u001b[0m\u001b[0;34m,\u001b[0m\u001b[0mmetrics\u001b[0m \u001b[0;34m=\u001b[0m \u001b[0;34m[\u001b[0m\u001b[0;34m'accuracy'\u001b[0m\u001b[0;34m]\u001b[0m\u001b[0;34m)\u001b[0m\u001b[0;34m\u001b[0m\u001b[0;34m\u001b[0m\u001b[0m\n\u001b[1;32m      2\u001b[0m  \u001b[0;31m# fit the keras model on the dataset\u001b[0m\u001b[0;34m\u001b[0m\u001b[0;34m\u001b[0m\u001b[0m\n\u001b[0;32m----> 3\u001b[0;31m \u001b[0mmodel\u001b[0m\u001b[0;34m.\u001b[0m\u001b[0mfit\u001b[0m\u001b[0;34m(\u001b[0m\u001b[0mtrain_dataset\u001b[0m\u001b[0;34m,\u001b[0m \u001b[0mepochs\u001b[0m\u001b[0;34m=\u001b[0m\u001b[0;36m150\u001b[0m\u001b[0;34m,\u001b[0m \u001b[0mbatch_size\u001b[0m\u001b[0;34m=\u001b[0m\u001b[0;36m10\u001b[0m\u001b[0;34m)\u001b[0m\u001b[0;34m\u001b[0m\u001b[0;34m\u001b[0m\u001b[0m\n\u001b[0m",
            "\u001b[0;32m/usr/local/lib/python3.10/dist-packages/keras/utils/traceback_utils.py\u001b[0m in \u001b[0;36merror_handler\u001b[0;34m(*args, **kwargs)\u001b[0m\n\u001b[1;32m     68\u001b[0m             \u001b[0;31m# To get the full stack trace, call:\u001b[0m\u001b[0;34m\u001b[0m\u001b[0;34m\u001b[0m\u001b[0m\n\u001b[1;32m     69\u001b[0m             \u001b[0;31m# `tf.debugging.disable_traceback_filtering()`\u001b[0m\u001b[0;34m\u001b[0m\u001b[0;34m\u001b[0m\u001b[0m\n\u001b[0;32m---> 70\u001b[0;31m             \u001b[0;32mraise\u001b[0m \u001b[0me\u001b[0m\u001b[0;34m.\u001b[0m\u001b[0mwith_traceback\u001b[0m\u001b[0;34m(\u001b[0m\u001b[0mfiltered_tb\u001b[0m\u001b[0;34m)\u001b[0m \u001b[0;32mfrom\u001b[0m \u001b[0;32mNone\u001b[0m\u001b[0;34m\u001b[0m\u001b[0;34m\u001b[0m\u001b[0m\n\u001b[0m\u001b[1;32m     71\u001b[0m         \u001b[0;32mfinally\u001b[0m\u001b[0;34m:\u001b[0m\u001b[0;34m\u001b[0m\u001b[0;34m\u001b[0m\u001b[0m\n\u001b[1;32m     72\u001b[0m             \u001b[0;32mdel\u001b[0m \u001b[0mfiltered_tb\u001b[0m\u001b[0;34m\u001b[0m\u001b[0;34m\u001b[0m\u001b[0m\n",
            "\u001b[0;32m/usr/local/lib/python3.10/dist-packages/keras/engine/training.py\u001b[0m in \u001b[0;36mtf__train_function\u001b[0;34m(iterator)\u001b[0m\n\u001b[1;32m     13\u001b[0m                 \u001b[0;32mtry\u001b[0m\u001b[0;34m:\u001b[0m\u001b[0;34m\u001b[0m\u001b[0;34m\u001b[0m\u001b[0m\n\u001b[1;32m     14\u001b[0m                     \u001b[0mdo_return\u001b[0m \u001b[0;34m=\u001b[0m \u001b[0;32mTrue\u001b[0m\u001b[0;34m\u001b[0m\u001b[0;34m\u001b[0m\u001b[0m\n\u001b[0;32m---> 15\u001b[0;31m                     \u001b[0mretval_\u001b[0m \u001b[0;34m=\u001b[0m \u001b[0mag__\u001b[0m\u001b[0;34m.\u001b[0m\u001b[0mconverted_call\u001b[0m\u001b[0;34m(\u001b[0m\u001b[0mag__\u001b[0m\u001b[0;34m.\u001b[0m\u001b[0mld\u001b[0m\u001b[0;34m(\u001b[0m\u001b[0mstep_function\u001b[0m\u001b[0;34m)\u001b[0m\u001b[0;34m,\u001b[0m \u001b[0;34m(\u001b[0m\u001b[0mag__\u001b[0m\u001b[0;34m.\u001b[0m\u001b[0mld\u001b[0m\u001b[0;34m(\u001b[0m\u001b[0mself\u001b[0m\u001b[0;34m)\u001b[0m\u001b[0;34m,\u001b[0m \u001b[0mag__\u001b[0m\u001b[0;34m.\u001b[0m\u001b[0mld\u001b[0m\u001b[0;34m(\u001b[0m\u001b[0miterator\u001b[0m\u001b[0;34m)\u001b[0m\u001b[0;34m)\u001b[0m\u001b[0;34m,\u001b[0m \u001b[0;32mNone\u001b[0m\u001b[0;34m,\u001b[0m \u001b[0mfscope\u001b[0m\u001b[0;34m)\u001b[0m\u001b[0;34m\u001b[0m\u001b[0;34m\u001b[0m\u001b[0m\n\u001b[0m\u001b[1;32m     16\u001b[0m                 \u001b[0;32mexcept\u001b[0m\u001b[0;34m:\u001b[0m\u001b[0;34m\u001b[0m\u001b[0;34m\u001b[0m\u001b[0m\n\u001b[1;32m     17\u001b[0m                     \u001b[0mdo_return\u001b[0m \u001b[0;34m=\u001b[0m \u001b[0;32mFalse\u001b[0m\u001b[0;34m\u001b[0m\u001b[0;34m\u001b[0m\u001b[0m\n",
            "\u001b[0;31mValueError\u001b[0m: in user code:\n\n    File \"/usr/local/lib/python3.10/dist-packages/keras/engine/training.py\", line 1284, in train_function  *\n        return step_function(self, iterator)\n    File \"/usr/local/lib/python3.10/dist-packages/keras/engine/training.py\", line 1268, in step_function  **\n        outputs = model.distribute_strategy.run(run_step, args=(data,))\n    File \"/usr/local/lib/python3.10/dist-packages/keras/engine/training.py\", line 1249, in run_step  **\n        outputs = model.train_step(data)\n    File \"/usr/local/lib/python3.10/dist-packages/keras/engine/training.py\", line 1050, in train_step\n        y_pred = self(x, training=True)\n    File \"/usr/local/lib/python3.10/dist-packages/keras/utils/traceback_utils.py\", line 70, in error_handler\n        raise e.with_traceback(filtered_tb) from None\n    File \"/usr/local/lib/python3.10/dist-packages/keras/engine/input_spec.py\", line 253, in assert_input_compatibility\n        raise ValueError(\n\n    ValueError: Exception encountered when calling layer 'sequential_8' (type Sequential).\n    \n    Input 0 of layer \"dense_17\" is incompatible with the layer: expected min_ndim=2, found ndim=1. Full shape received: (2,)\n    \n    Call arguments received by layer 'sequential_8' (type Sequential):\n      • inputs=tf.Tensor(shape=(2,), dtype=int32)\n      • training=True\n      • mask=None\n"
          ]
        }
      ]
    }
  ]
}