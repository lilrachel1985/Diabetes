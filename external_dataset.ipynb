{
 "cells": [
  {
   "cell_type": "code",
   "execution_count": 1,
   "metadata": {
    "executionInfo": {
     "elapsed": 5,
     "status": "ok",
     "timestamp": 1688842371107,
     "user": {
      "displayName": "Balaji Ambresh Rajkumar",
      "userId": "11079164018829326543"
     },
     "user_tz": -330
    },
    "id": "v47fQSpC2QXp"
   },
   "outputs": [],
   "source": [
    "import os\n",
    "os.environ['TF_CPP_MIN_LOG_LEVEL'] = '3'\n",
    "\n",
    "from sklearn.datasets import make_classification\n",
    "import numpy as np\n",
    "import tensorflow as tf"
   ]
  },
  {
   "cell_type": "code",
   "execution_count": 2,
   "metadata": {
    "executionInfo": {
     "elapsed": 34,
     "status": "ok",
     "timestamp": 1688842377980,
     "user": {
      "displayName": "Balaji Ambresh Rajkumar",
      "userId": "11079164018829326543"
     },
     "user_tz": -330
    },
    "id": "oaz_lZ4w2ViP"
   },
   "outputs": [],
   "source": [
    "def make_dummy_dataset(n_samples=1000):\n",
    "    X, y = make_classification(n_classes=2,\n",
    "                               n_samples=n_samples,\n",
    "                               n_informative=3,\n",
    "                               n_repeated=0,\n",
    "                               n_redundant=0,\n",
    "                               n_features=3,\n",
    "                               random_state=42)\n",
    "    data = np.concatenate([X, np.expand_dims(y, axis=-1)], axis=1)\n",
    "    return data"
   ]
  },
  {
   "cell_type": "code",
   "execution_count": 3,
   "metadata": {
    "executionInfo": {
     "elapsed": 6,
     "status": "ok",
     "timestamp": 1688842383371,
     "user": {
      "displayName": "Balaji Ambresh Rajkumar",
      "userId": "11079164018829326543"
     },
     "user_tz": -330
    },
    "id": "XbBwckYT2ZqU"
   },
   "outputs": [],
   "source": [
    "with open('data.csv', 'w') as f:\n",
    "    import csv\n",
    "\n",
    "    writer = csv.writer(f)\n",
    "    writer.writerows(make_dummy_dataset())"
   ]
  },
  {
   "cell_type": "code",
   "execution_count": 4,
   "metadata": {
    "executionInfo": {
     "elapsed": 63,
     "status": "ok",
     "timestamp": 1688842414385,
     "user": {
      "displayName": "Balaji Ambresh Rajkumar",
      "userId": "11079164018829326543"
     },
     "user_tz": -330
    },
    "id": "6w-qfoMI2a-7"
   },
   "outputs": [],
   "source": [
    "def parse(a_line):\n",
    "    splits = tf.strings.split(a_line, ',')\n",
    "    X = [float(splits[0]), float(splits[1]), float(splits[2])]\n",
    "    y = float(splits[3])\n",
    "    return (X, y)\n",
    "\n",
    "\n",
    "dataset = tf.data.TextLineDataset('data.csv').map(parse).cache().shuffle(10000).batch(32).prefetch(2)"
   ]
  },
  {
   "cell_type": "code",
   "execution_count": 5,
   "metadata": {
    "colab": {
     "base_uri": "https://localhost:8080/"
    },
    "executionInfo": {
     "elapsed": 704,
     "status": "ok",
     "timestamp": 1688842443333,
     "user": {
      "displayName": "Balaji Ambresh Rajkumar",
      "userId": "11079164018829326543"
     },
     "user_tz": -330
    },
    "id": "HFVdhVjM2cNr",
    "outputId": "982100af-df5b-40f7-96e8-cedb576d6d34"
   },
   "outputs": [
    {
     "name": "stdout",
     "output_type": "stream",
     "text": [
      "Epoch 1/2\n",
      "32/32 [==============================] - 1s 19ms/step - loss: 0.8498 - accuracy: 0.4090\n",
      "Epoch 2/2\n",
      "32/32 [==============================] - 0s 4ms/step - loss: 0.7784 - accuracy: 0.4870\n"
     ]
    },
    {
     "data": {
      "text/plain": [
       "<keras.callbacks.History at 0x7f2cf1806680>"
      ]
     },
     "execution_count": 5,
     "metadata": {},
     "output_type": "execute_result"
    }
   ],
   "source": [
    "model = tf.keras.Sequential([\n",
    "    tf.keras.layers.Input(shape=[3]),\n",
    "    tf.keras.layers.Dense(units=8, activation='relu'),\n",
    "    tf.keras.layers.Dense(units=1, activation='sigmoid')\n",
    "])\n",
    "model.compile(loss=tf.keras.losses.BinaryCrossentropy(),\n",
    "              optimizer='adam',\n",
    "              metrics=['accuracy'])\n",
    "model.fit(dataset, epochs=2)"
   ]
  },
  {
   "cell_type": "code",
   "execution_count": null,
   "metadata": {
    "id": "Tt0kvI6t2n9z"
   },
   "outputs": [],
   "source": []
  }
 ],
 "metadata": {
  "colab": {
   "authorship_tag": "ABX9TyPSErgwqVuyfZo20A1cItJn",
   "provenance": []
  },
  "kernelspec": {
   "display_name": "Python 3 (ipykernel)",
   "language": "python",
   "name": "python3"
  },
  "language_info": {
   "codemirror_mode": {
    "name": "ipython",
    "version": 3
   },
   "file_extension": ".py",
   "mimetype": "text/x-python",
   "name": "python",
   "nbconvert_exporter": "python",
   "pygments_lexer": "ipython3",
   "version": "3.10.12"
  }
 },
 "nbformat": 4,
 "nbformat_minor": 1
}
